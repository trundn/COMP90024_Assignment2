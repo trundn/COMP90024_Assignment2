{
 "cells": [
  {
   "cell_type": "code",
   "execution_count": null,
   "metadata": {},
   "outputs": [],
   "source": [
    "# get tweet from tweetid\n",
    "# from: https://github.com/echen102/COVID-19-TweetIDs\n",
    "import tweepy\n",
    "import json"
   ]
  },
  {
   "cell_type": "code",
   "execution_count": null,
   "metadata": {},
   "outputs": [],
   "source": [
    "#auth\n",
    "consumer_key = 'uPki0iVAfizNaHoL0r9qRX1X0'\n",
    "consumer_secret = 'AV0tKMgvqyYx8kghElpb35bWhYKkKhK7OsPcRbiKf3qF7l6vPo'\n",
    "access_token = '1252656509516832768-raeSbyRDI4f2cXW9q2pJqdouGk4DpI'\n",
    "access_token_secret = 'TDT9KyMHdLgASbYE18qSGq8qlwYqVd1kAbVUrjdP2PJhI'\n",
    "\n",
    "auth = tweepy.OAuthHandler(consumer_key, consumer_secret)\n",
    "auth.set_access_token(access_token, access_token_secret)\n",
    "\n",
    "api = tweepy.API(auth, wait_on_rate_limit=True)"
   ]
  },
  {
   "cell_type": "code",
   "execution_count": null,
   "metadata": {},
   "outputs": [],
   "source": [
    "def read_tweetid_list(path):\n",
    "    tweetid_list = []\n",
    "    with open(path, 'r', encoding='utf-8') as f:\n",
    "        for idx, tweet in enumerate(f):\n",
    "            tweet=tweet.strip()\n",
    "            tweetid_list.append(tweet)\n",
    "    return tweetid_list"
   ]
  },
  {
   "cell_type": "code",
   "execution_count": null,
   "metadata": {},
   "outputs": [],
   "source": [
    "def get_tweets_from_tweetid_list(tweetid_list):\n",
    "    tweets_list = []\n",
    "    print(len(tweetid_list))\n",
    "    for i in range(len(tweetid_list)):\n",
    "        try:\n",
    "            tweet = api.get_status(my_list[i], tweet_mode='extended')\n",
    "            tweets_list.append(tweet._json)\n",
    "        except tweepy.TweepError as e: #not available now\n",
    "            #print(e.args[0][0]['code'])\n",
    "            continue\n",
    "    return tweets_list"
   ]
  },
  {
   "cell_type": "code",
   "execution_count": null,
   "metadata": {},
   "outputs": [],
   "source": [
    "## TODO: implement parallel analysis\n",
    "## TODO: integrate into other's code\n",
    "LIST_PATH = \"./users_list.txt\" #temp path\n",
    "tweetid_list = read_tweetid_list(LIST_PATH)\n",
    "tweets_list = get_tweets_from_tweetid_list(tweetid_list)"
   ]
  }
 ],
 "metadata": {
  "kernelspec": {
   "display_name": "Python 3",
   "language": "python",
   "name": "python3"
  },
  "language_info": {
   "codemirror_mode": {
    "name": "ipython",
    "version": 3
   },
   "file_extension": ".py",
   "mimetype": "text/x-python",
   "name": "python",
   "nbconvert_exporter": "python",
   "pygments_lexer": "ipython3",
   "version": "3.7.3"
  }
 },
 "nbformat": 4,
 "nbformat_minor": 2
}
